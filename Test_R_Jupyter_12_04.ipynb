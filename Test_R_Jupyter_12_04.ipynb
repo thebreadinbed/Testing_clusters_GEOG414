{
 "cells": [
  {
   "cell_type": "markdown",
   "id": "8f5c85b8-2a03-4af6-9a9c-e7787aea3828",
   "metadata": {},
   "source": [
    "# Manipulation on R to create seperate df for 2015, 2016, 2017, 2018, 2019, 2020"
   ]
  },
  {
   "cell_type": "code",
   "execution_count": 6,
   "id": "8869686f-183f-4a04-83d6-3014c20bd463",
   "metadata": {
    "tags": []
   },
   "outputs": [],
   "source": [
    "# Replace \"your_file.dta\" with the path to your Stata file\n",
    "DataCSV_mtl <- read.csv(file=\"MAIN_Cleaned_AQ_2015_to_2020_12_04.csv\", header=TRUE, sep=\",\" , encoding='utf-8') ## this is the orginal file that gives me every commerce that are 2015 and plus "
   ]
  },
  {
   "cell_type": "code",
   "execution_count": 2,
   "id": "7e025f50-7273-4a61-b2bd-5c41d9816066",
   "metadata": {
    "tags": []
   },
   "outputs": [],
   "source": [
    "# Assuming df is your data frame\n",
    "df_remove_blank <- DataCSV_mtl[DataCSV_mtl$dat_fin_decl != \"\", , drop = FALSE] ## drop string columns with no value\n",
    "\n",
    "#remove all commerce that closed in 2015 \n",
    "df_remove_2015 <- df_remove_blank[!grepl(\"^2015\", df_remove_blank$dat_fin_decl), , drop = FALSE]\n",
    "df_remove_2016 <- df_remove_2015[!grepl(\"^2016\", df_remove_2015$dat_fin_decl), , drop = FALSE]\n",
    "df_remove_2017 <- df_remove_2016[!grepl(\"^2017\", df_remove_2016$dat_fin_decl), , drop = FALSE]\n",
    "df_remove_2018 <- df_remove_2017[!grepl(\"^2018\", df_remove_2017$dat_fin_decl), , drop = FALSE]\n",
    "df_remove_2019 <- df_remove_2018[!grepl(\"^2019\", df_remove_2018$dat_fin_decl), , drop = FALSE]"
   ]
  },
  {
   "cell_type": "code",
   "execution_count": 5,
   "id": "340bebba-d2ad-4f0e-850b-15801d539057",
   "metadata": {
    "tags": []
   },
   "outputs": [],
   "source": [
    "# Remove rows where any of the three columns contain \"Information non déclarée\"\n",
    "df_cleaned_2015 <- df_remove_2015[!(df_remove_2015$cae_description == \"Information non dÃƒÂ©clarÃƒÂ©e\" | df_remove_2015$cae_famille == \"Information non dÃƒÂ©clarÃƒÂ©e\" | df_remove_2015$cae_groupe == \"Information non dÃƒÂ©clarÃƒÂ©e\" | df_remove_2015$cae_division == \"Information non dÃƒÂ©clarÃƒÂ©e\"), ]\n",
    "df_cleaned_2016 <- df_remove_2016[!(df_remove_2016$cae_famille == \"Information non dÃƒÂ©clarÃƒÂ©e\" | df_remove_2016$cae_groupe == \"Information non dÃƒÂ©clarÃƒÂ©e\" | df_remove_2016$cae_division == \"Information non dÃƒÂ©clarÃƒÂ©e\"), ]\n",
    "df_cleaned_2017 <- df_remove_2017[!(df_remove_2017$cae_famille == \"Information non dÃƒÂ©clarÃƒÂ©e\" | df_remove_2017$cae_groupe == \"Information non dÃƒÂ©clarÃƒÂ©e\" | df_remove_2017$cae_division == \"Information non dÃƒÂ©clarÃƒÂ©e\"), ]\n",
    "df_cleaned_2018 <- df_remove_2018[!(df_remove_2018$cae_famille == \"Information non dÃƒÂ©clarÃƒÂ©e\" | df_remove_2018$cae_groupe == \"Information non dÃƒÂ©clarÃƒÂ©e\" | df_remove_2018$cae_division == \"Information non dÃƒÂ©clarÃƒÂ©e\"), ]\n",
    "df_cleaned_2019 <- df_remove_2019[!(df_remove_2019$cae_famille == \"Information non dÃƒÂ©clarÃƒÂ©e\" | df_remove_2019$cae_groupe == \"Information non dÃƒÂ©clarÃƒÂ©e\" | df_remove_2019$cae_division == \"Information non dÃƒÂ©clarÃƒÂ©e\"), ]\n",
    "\n",
    "write.csv(df_cleaned_2015, file = \"to_group_11_29_23.csv\", row.names = FALSE)"
   ]
  }
 ],
 "metadata": {
  "kernelspec": {
   "display_name": "R",
   "language": "R",
   "name": "ir"
  },
  "language_info": {
   "codemirror_mode": "r",
   "file_extension": ".r",
   "mimetype": "text/x-r-source",
   "name": "R",
   "pygments_lexer": "r",
   "version": "3.6.1"
  }
 },
 "nbformat": 4,
 "nbformat_minor": 5
}
